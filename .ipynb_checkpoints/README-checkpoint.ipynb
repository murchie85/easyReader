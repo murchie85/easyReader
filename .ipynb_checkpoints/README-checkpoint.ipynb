{
 "cells": [
  {
   "cell_type": "markdown",
   "metadata": {},
   "source": [
    "# Easy-Reader\n",
    "\n",
    "![](https://www.cuinsight.com/wp-content/uploads/2020/03/bigstock-Unity-and-Strength-755262.jpg)  \n",
    "  \n",
    "This open source project is dedicated to producing a singe plug and play solution for helping users with learning difficulties by simplifying and improving complex documents (text strings), so that the original meaning is retained but presented in a more digestible manner for those with learning difficulties. This may also be applicable to speakers of other languages.     \n",
    "  \n",
    "This project is a work in progress, currently the approach is to itteratively add features to a design model that will encorporate solutions such as:   \n",
    "\n",
    "1. shortening sentences\n",
    "2. reducing complexity\n",
    "3. Adding supporting images and interactive widgets\n",
    "4. Verbalising or showing complex concepts \n",
    "5. Identifying complex vocab during scanning process to flag to the teacher/information owner. \n",
    "6. Supporting feedback systems\n"
   ]
  },
  {
   "cell_type": "markdown",
   "metadata": {},
   "source": [
    "# Features High Level  \n",
    "\n",
    "- **Text simplification/Summarisation** tool \n",
    "    - Learn form Wikipedia simple English\n",
    "    - Find python libraries to assist\n",
    "    \n",
    "- Text simplification via **rules engine**\n",
    "    - Find existing tools and encorporate or build from scratch  \n",
    "- Image Support \n",
    "    - Have images inserted at complex words, sentences to simplify the description \n",
    "- **DIY Doc simplification Builder**\n",
    "    - A potential interimn solution would be to build a harness app that would allow you to paste in the text, and it would give you tools to add in your simplification parts, upload images etc.   \n",
    "    \n",
    "- Dynamic Support\n",
    "    - Interactive tools for users to play with, helping to understand hard concepts\n",
    "- Output Format\n",
    "    - Initially potentially just a document scanner which outputs HTML interactive page, or other Doc Form. Uploads for hosting so a website can be used to view it. \n",
    "    - Later consider full hosting options for sessions and users   \n",
    "- Feedback systems\n",
    "    - Highlight any text sentence the user is highlighting. \n",
    "    - Allow user to click a big button on text samples that says \"I don understand\"\n"
   ]
  },
  {
   "cell_type": "markdown",
   "metadata": {},
   "source": [
    "# Objectives and Tasks  \n",
    "  \n",
    "- Research all the existing open source utilities we can work with or encorporiate  \n",
    "- Research text simplification Applications, how are they built, can they be adapted \n",
    "- Look for frameworks that can convert text to words, otherwise this can be built easily enough"
   ]
  },
  {
   "cell_type": "markdown",
   "metadata": {},
   "source": [
    "# Requirements \n",
    "\n",
    "- Needs to be fast and fully self-contained i.e. plug and play. \n",
    "- Ample User testing and functional testing done prior to release\n",
    "- Ethics Evaluation in the test phase needs done - this is to ensure any utilities used does not cause unintended harm or misrepresentation "
   ]
  },
  {
   "cell_type": "markdown",
   "metadata": {},
   "source": [
    "# Resources \n",
    "\n",
    "\n",
    "## Potentially Usable Resources\n",
    "  \n",
    "- [Tensorflow trained on wiki](https://github.com/captainjtx/SimpleText)  \n",
    "- [BERT for text simplification](https://medium.com/@armandj.olivares/how-to-use-bert-for-lexical-simplification-6edbf5a4d15e) \n",
    "- [SImple English Wikipedia official](https://simple.wikipedia.org/wiki/Main_Page)  \n",
    "- [simplification summary, datasets and examples](https://paperswithcode.com/task/text-simplification). \n",
    "\n",
    "\n",
    "## Potentially Unusable Resources (requires further reading). \n",
    "\n",
    "- [Sari academic paper simplification](https://github.com/XingxingZhang/pysari)\n",
    "  \n",
    "  \n",
    "## More Suggestions  \n",
    "  \n",
    "- Text to speech tools \n",
    "- [overview of assistive tech for learning difficulties](https://www.teachthought.com/technology/15-assistive-technology-tools-resources-for-students-with-disabilities/) "
   ]
  },
  {
   "cell_type": "code",
   "execution_count": null,
   "metadata": {},
   "outputs": [],
   "source": []
  }
 ],
 "metadata": {
  "kernelspec": {
   "display_name": "Python 3",
   "language": "python",
   "name": "python3"
  },
  "language_info": {
   "codemirror_mode": {
    "name": "ipython",
    "version": 3
   },
   "file_extension": ".py",
   "mimetype": "text/x-python",
   "name": "python",
   "nbconvert_exporter": "python",
   "pygments_lexer": "ipython3",
   "version": "3.7.6"
  }
 },
 "nbformat": 4,
 "nbformat_minor": 4
}
